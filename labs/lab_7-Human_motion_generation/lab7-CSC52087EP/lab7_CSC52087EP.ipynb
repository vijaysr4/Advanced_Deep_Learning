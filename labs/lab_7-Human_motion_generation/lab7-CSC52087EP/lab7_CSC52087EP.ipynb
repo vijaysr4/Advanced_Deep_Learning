{
  "cells": [
    {
      "cell_type": "markdown",
      "metadata": {
        "id": "9XUUXb_EChr7"
      },
      "source": [
        "# Lab 7: Human motion generation\n",
        "\n",
        "## Advanced deep learning"
      ]
    },
    {
      "cell_type": "markdown",
      "metadata": {
        "id": "7KGXNA3iHF5f"
      },
      "source": [
        "## Setup"
      ]
    },
    {
      "cell_type": "markdown",
      "metadata": {
        "id": "60caQxx88Cyn"
      },
      "source": [
        "### Setup dataset\n"
      ]
    },
    {
      "cell_type": "markdown",
      "metadata": {
        "id": "Fvx7fqa48sNF"
      },
      "source": [
        "Please access this Google Drive folder: [link](https://drive.google.com/drive/folders/1V5yzlwBPSNVPj33SfDHnvMykXISh3CyB?usp=sharing) and create a shortcut in the root of your Google Drive `/content/drive/MyDrive/`."
      ]
    },
    {
      "cell_type": "code",
      "execution_count": null,
      "metadata": {
        "colab": {
          "base_uri": "https://localhost:8080/"
        },
        "id": "Yt3aAa1r6Op8",
        "outputId": "edab4028-2823-4032-8972-41f6e42502de"
      },
      "outputs": [],
      "source": [
        "from google.colab import drive\n",
        "drive.mount('/content/drive')\n",
        "!ls /content/drive/MyDrive/humanml3d-data"
      ]
    },
    {
      "cell_type": "markdown",
      "metadata": {
        "id": "074Ne_4E8luO"
      },
      "source": [
        "### Setup environment"
      ]
    },
    {
      "cell_type": "markdown",
      "metadata": {
        "id": "YmHwaQG28t4M"
      },
      "source": [
        "Make sure you're running on a T4 GPU Colab instance; if not, activate it."
      ]
    },
    {
      "cell_type": "code",
      "execution_count": null,
      "metadata": {
        "colab": {
          "base_uri": "https://localhost:8080/"
        },
        "id": "2sBLR6u287tO",
        "outputId": "b739bf7c-8f46-42ea-d24b-a169801e12b2"
      },
      "outputs": [],
      "source": [
        "!nvidia-smi"
      ]
    },
    {
      "cell_type": "code",
      "execution_count": null,
      "metadata": {
        "colab": {
          "base_uri": "https://localhost:8080/"
        },
        "id": "RjBChA6Q4mxg",
        "outputId": "684f8dc6-fea6-44cd-e494-2bcfeaf27ae0"
      },
      "outputs": [],
      "source": [
        "import torch\n",
        "torch.cuda.is_available()"
      ]
    },
    {
      "cell_type": "markdown",
      "metadata": {
        "id": "ci0lCsmL9J0l"
      },
      "source": [
        "Clone the lab repository."
      ]
    },
    {
      "cell_type": "code",
      "execution_count": null,
      "metadata": {
        "colab": {
          "base_uri": "https://localhost:8080/"
        },
        "id": "rXsBpPG_54yw",
        "outputId": "01cd4012-ce2e-4348-b1b6-f2080658bdac"
      },
      "outputs": [],
      "source": [
        "# !git clone https://github.com/robincourant/lab5-CSC52087EP.git\n",
        "!git clone https://github.com/robincourant/lab-MotionDiT.git"
      ]
    },
    {
      "cell_type": "code",
      "execution_count": null,
      "metadata": {
        "colab": {
          "base_uri": "https://localhost:8080/"
        },
        "id": "jrUys3nwW57T",
        "outputId": "0e4352ab-0cac-4972-b0d8-afbb1dd7b537"
      },
      "outputs": [],
      "source": [
        "# %cd lab5-CSC52087EP\n",
        "%cd lab-MotionDiT\n",
        "!ln -s /content/drive/MyDrive/humanml3d-data ./ # Plug the dataset in the repo"
      ]
    },
    {
      "cell_type": "markdown",
      "metadata": {
        "id": "8GsrHa8b-Qp6"
      },
      "source": [
        "Install required libraries"
      ]
    },
    {
      "cell_type": "code",
      "execution_count": null,
      "metadata": {
        "colab": {
          "base_uri": "https://localhost:8080/",
          "height": 1000
        },
        "collapsed": true,
        "id": "P5rmT5xs7fLC",
        "outputId": "df87002a-620a-4eda-d927-4f565fc90af8"
      },
      "outputs": [],
      "source": [
        "!pip install hydra-core\n",
        "!pip install pyrender\n",
        "!pip install smplx\n",
        "!pip install torchtyping\n",
        "!pip install lightning\n",
        "!pip install ema_pytorch"
      ]
    },
    {
      "cell_type": "markdown",
      "metadata": {
        "id": "c4s7idwpCdBB"
      },
      "source": [
        "## Human motion dataset and representation"
      ]
    },
    {
      "cell_type": "markdown",
      "metadata": {
        "id": "d6tVJN0tKJDc"
      },
      "source": [
        "### HumanML3D dataset"
      ]
    },
    {
      "cell_type": "markdown",
      "metadata": {
        "id": "acBwhl_QJaOQ"
      },
      "source": [
        "#### Question 1:\n",
        "*Answer here...*"
      ]
    },
    {
      "cell_type": "markdown",
      "metadata": {
        "id": "3Q9RiuC9a7bo"
      },
      "source": [
        "### SMPL representation\n"
      ]
    },
    {
      "cell_type": "markdown",
      "metadata": {
        "id": "4R8HfjD0K21n"
      },
      "source": [
        "#### Question 2:\n",
        "*Answer here...*"
      ]
    },
    {
      "cell_type": "markdown",
      "metadata": {
        "id": "tJlTSWM_KQvF"
      },
      "source": [
        "#### Code 2\n",
        "*Complete `visualize_smpl.py`*"
      ]
    },
    {
      "cell_type": "code",
      "execution_count": null,
      "metadata": {
        "colab": {
          "base_uri": "https://localhost:8080/",
          "height": 649
        },
        "id": "O8Z8gjTQ9yBQ",
        "outputId": "5eecfb95-afd6-4245-c594-e920c576bbf0"
      },
      "outputs": [],
      "source": [
        "!HYDRA_FULL_ERROR=1 PYTHONPATH=$(pwd) python src/visualize_smpl.py\n",
        "\n",
        "import moviepy.editor\n",
        "moviepy.editor.ipython_display(\"./smpl.mp4\")"
      ]
    },
    {
      "cell_type": "markdown",
      "metadata": {
        "id": "pa029hM4KWQK"
      },
      "source": [
        "## Model architectures"
      ]
    },
    {
      "cell_type": "markdown",
      "metadata": {
        "id": "tge2bq20KeK5"
      },
      "source": [
        "### Config A: Incontext"
      ]
    },
    {
      "cell_type": "markdown",
      "metadata": {
        "id": "Z7OHGZpZKj9U"
      },
      "source": [
        "#### Code 3\n",
        "*Complete `src/models/modules/incontext.py`*"
      ]
    },
    {
      "cell_type": "code",
      "execution_count": null,
      "metadata": {
        "colab": {
          "base_uri": "https://localhost:8080/"
        },
        "id": "_UbeXSSn99UU",
        "outputId": "0d2ac578-64bb-4091-f6cf-bff028c010de"
      },
      "outputs": [],
      "source": [
        "!PYTHONPATH=$(pwd) python src/models/modules/incontext.py"
      ]
    },
    {
      "cell_type": "markdown",
      "metadata": {
        "id": "CwYzoykxKtmR"
      },
      "source": [
        "### Config B: AdaLN"
      ]
    },
    {
      "cell_type": "markdown",
      "metadata": {
        "id": "0YWdkaIOKzaS"
      },
      "source": [
        "#### Question 3:\n",
        "*Answer here...*"
      ]
    },
    {
      "cell_type": "markdown",
      "metadata": {
        "id": "B7bATRNuK7af"
      },
      "source": [
        "#### Code 4\n",
        "*Complete `src/models/modules/adaln.py`*"
      ]
    },
    {
      "cell_type": "code",
      "execution_count": null,
      "metadata": {
        "colab": {
          "base_uri": "https://localhost:8080/"
        },
        "id": "59Ps7s4FbRdA",
        "outputId": "49246016-48c9-40ae-80ff-d18773a4a846"
      },
      "outputs": [],
      "source": [
        "!PYTHONPATH=$(pwd) python src/models/modules/adaln.py"
      ]
    },
    {
      "cell_type": "markdown",
      "metadata": {
        "id": "HdO4ScVvLHcD"
      },
      "source": [
        "### Config C: Cross attention"
      ]
    },
    {
      "cell_type": "markdown",
      "metadata": {
        "id": "PniaAe78LNHI"
      },
      "source": [
        "#### Question 4:\n",
        "*Answer here...*"
      ]
    },
    {
      "cell_type": "markdown",
      "metadata": {
        "id": "lDXV92OCLUD5"
      },
      "source": [
        "#### Code 5\n",
        "*Complete `src/models/modules/cross attention.py`*"
      ]
    },
    {
      "cell_type": "code",
      "execution_count": null,
      "metadata": {
        "colab": {
          "base_uri": "https://localhost:8080/"
        },
        "id": "tMkC06s-LDEw",
        "outputId": "b1212989-f893-497d-918f-dbd408110e38"
      },
      "outputs": [],
      "source": [
        "!PYTHONPATH=$(pwd) python src/models/modules/cross_attention.py"
      ]
    },
    {
      "cell_type": "markdown",
      "metadata": {
        "id": "v_Y3_D9MLfyc"
      },
      "source": [
        "#### Question 5:\n",
        "*Answer here...*"
      ]
    },
    {
      "cell_type": "markdown",
      "metadata": {
        "id": "Jz3HY2rILh7a"
      },
      "source": [
        "## Diffusion framework"
      ]
    },
    {
      "cell_type": "markdown",
      "metadata": {
        "id": "iThPZV7GLjX_"
      },
      "source": [
        "### DDPM"
      ]
    },
    {
      "cell_type": "markdown",
      "metadata": {
        "id": "_1Z-6CtSLm-z"
      },
      "source": [
        "#### Code 6\n",
        "*Complete `src/training/losses/ddpm.py`*"
      ]
    },
    {
      "cell_type": "code",
      "execution_count": null,
      "metadata": {
        "colab": {
          "base_uri": "https://localhost:8080/"
        },
        "id": "RF916TVxLbeC",
        "outputId": "f9da75b5-ec65-4225-f410-d31c2f2f556a"
      },
      "outputs": [],
      "source": [
        "!PYTHONPATH=$(pwd) python src/training/losses/ddpm.py"
      ]
    },
    {
      "cell_type": "markdown",
      "metadata": {
        "id": "tyhR8XcCLpxp"
      },
      "source": [
        "#### Code 7\n",
        "*Complete `src/training/sampler/ddpm.py`*"
      ]
    },
    {
      "cell_type": "code",
      "execution_count": null,
      "metadata": {
        "colab": {
          "base_uri": "https://localhost:8080/",
          "height": 980
        },
        "id": "QQKW2FqXOOzV",
        "outputId": "39f72c80-2513-4907-9f85-8d87ec12d83a"
      },
      "outputs": [],
      "source": [
        "!PYTHONPATH=$(pwd) python src/generate.py batch_size=1 diffuser/sampler@diffuser.test_sampler=ddpm seed=2\n",
        "\n",
        "import moviepy.editor\n",
        "moviepy.editor.ipython_display(\"./generation_ddpm_incontext.mp4\")"
      ]
    },
    {
      "cell_type": "markdown",
      "metadata": {
        "id": "WFzaE-ywSMgx"
      },
      "source": [
        "### DDIM"
      ]
    },
    {
      "cell_type": "markdown",
      "metadata": {
        "id": "hppqZBbzRvmh"
      },
      "source": [
        "#### Question 6:\n",
        "*Answer here...*"
      ]
    },
    {
      "cell_type": "markdown",
      "metadata": {
        "id": "jZsuqZ2ySwgK"
      },
      "source": [
        "#### Code 8\n",
        "*Complete `src/training/sampler/ddim.py`*"
      ]
    },
    {
      "cell_type": "code",
      "execution_count": null,
      "metadata": {
        "colab": {
          "base_uri": "https://localhost:8080/",
          "height": 980
        },
        "id": "B2BMCflJO3g2",
        "outputId": "09d0ecd4-36ca-40c2-be67-8084dae7ebe9"
      },
      "outputs": [],
      "source": [
        "!PYTHONPATH=$(pwd) python src/generate.py batch_size=1 diffuser/sampler@diffuser.test_sampler=ddim seed=2\n",
        "\n",
        "import moviepy.editor\n",
        "moviepy.editor.ipython_display(\"./generation_ddim_incontext.mp4\")"
      ]
    },
    {
      "cell_type": "markdown",
      "metadata": {
        "id": "neQRImjjTLPC"
      },
      "source": [
        "#### Question 7:\n",
        "*Answer here...*"
      ]
    },
    {
      "cell_type": "markdown",
      "metadata": {
        "id": "52tSZN2eTN2d"
      },
      "source": [
        "## Result analysis"
      ]
    },
    {
      "cell_type": "markdown",
      "metadata": {
        "id": "VjTdl4lGTQsd"
      },
      "source": [
        "### Qualitative analysis"
      ]
    },
    {
      "cell_type": "markdown",
      "metadata": {
        "id": "Haqoz_8xTSgp"
      },
      "source": [
        "#### Code 9"
      ]
    },
    {
      "cell_type": "code",
      "execution_count": null,
      "metadata": {
        "colab": {
          "base_uri": "https://localhost:8080/",
          "height": 980
        },
        "id": "8lQR24uPQUHK",
        "outputId": "58b2f713-3e1e-4293-ceb3-cda6c8da2fe8"
      },
      "outputs": [],
      "source": [
        "!PYTHONPATH=$(pwd) python src/generate.py batch_size=1 diffuser/network=incontext \\\n",
        "checkpoint_path=./humanml3d-data/checkpoints/incontext.ckpt\n",
        "\n",
        "import moviepy.editor\n",
        "moviepy.editor.ipython_display(\"./generation_ddpm_incontext.mp4\")"
      ]
    },
    {
      "cell_type": "code",
      "execution_count": null,
      "metadata": {
        "colab": {
          "base_uri": "https://localhost:8080/",
          "height": 980
        },
        "id": "7L1XB-QfTmvZ",
        "outputId": "ed95a34b-d5dc-4e15-d9ce-b90f5ec36a39"
      },
      "outputs": [],
      "source": [
        "!PYTHONPATH=$(pwd) python src/generate.py batch_size=1 diffuser/network=adaln \\\n",
        "checkpoint_path=./humanml3d-data/checkpoints/adaln.ckpt\n",
        "\n",
        "import moviepy.editor\n",
        "moviepy.editor.ipython_display(\"./generation_ddpm_adaln.mp4\")"
      ]
    },
    {
      "cell_type": "code",
      "execution_count": null,
      "metadata": {
        "colab": {
          "base_uri": "https://localhost:8080/",
          "height": 980
        },
        "id": "Phz7U0JpT5nn",
        "outputId": "c483ba34-ad9a-48cf-ee84-9fb523b3df14"
      },
      "outputs": [],
      "source": [
        "!PYTHONPATH=$(pwd) python src/generate.py batch_size=1 diffuser/network=cross_attention \\\n",
        "checkpoint_path=./humanml3d-data/checkpoints/cross_attention.ckpt\n",
        "\n",
        "import moviepy.editor\n",
        "moviepy.editor.ipython_display(\"./generation_ddpm_cross_attention.mp4\")"
      ]
    },
    {
      "cell_type": "markdown",
      "metadata": {
        "id": "Mho-8mpBUCL9"
      },
      "source": [
        "#### Question 8\n",
        "*Answer here...*"
      ]
    },
    {
      "cell_type": "markdown",
      "metadata": {
        "id": "RhO8xq9LUnzB"
      },
      "source": [
        "### Quantitative analysis"
      ]
    },
    {
      "cell_type": "markdown",
      "metadata": {
        "id": "i4KDe-A8VDJ1"
      },
      "source": [
        "#### Question 9:\n",
        "*Answer here...*"
      ]
    },
    {
      "cell_type": "markdown",
      "metadata": {
        "id": "nmWZ5R-8VJtR"
      },
      "source": [
        "#### Code 10\n",
        "*Complete src/metrics/frechet.py*"
      ]
    },
    {
      "cell_type": "markdown",
      "metadata": {
        "id": "9agq2Zj7VMBV"
      },
      "source": [
        "#### Code 11\n",
        "*Complete src/metrics/similarity.py*"
      ]
    },
    {
      "cell_type": "markdown",
      "metadata": {
        "id": "V5FdHDUmVM6R"
      },
      "source": [
        "#### Code 12"
      ]
    },
    {
      "cell_type": "markdown",
      "metadata": {
        "id": "gEP-Aw2MsOlY"
      },
      "source": [
        "#### Bonus 1:\n",
        "*Answer here...*"
      ]
    },
    {
      "cell_type": "code",
      "execution_count": null,
      "metadata": {
        "colab": {
          "base_uri": "https://localhost:8080/"
        },
        "id": "xwWE-4K3VZr4",
        "outputId": "61a0df64-5a65-4452-b89d-98c0097522b2"
      },
      "outputs": [],
      "source": [
        "!PYTHONPATH=$(pwd) python src/evaluate.py diffuser/network=incontext \\\n",
        "checkpoint_path=./humanml3d-data/checkpoints/incontext.ckpt"
      ]
    },
    {
      "cell_type": "code",
      "execution_count": null,
      "metadata": {
        "id": "_8OB5UD2V1tU"
      },
      "outputs": [],
      "source": [
        "!PYTHONPATH=$(pwd) python src/evaluate.py diffuser/network=adaln \\\n",
        "checkpoint_path=./humanml3d-data/checkpoints/adaln.ckpt"
      ]
    },
    {
      "cell_type": "code",
      "execution_count": null,
      "metadata": {
        "id": "G0XFa4yzV2-f"
      },
      "outputs": [],
      "source": [
        "!PYTHONPATH=$(pwd) python src/evaluate.py diffuser/network=cross_attention \\\n",
        "checkpoint_path=./humanml3d-data/checkpoints/cross_attention.ckpt"
      ]
    },
    {
      "cell_type": "markdown",
      "metadata": {
        "id": "kAFevlsasbJT"
      },
      "source": [
        "#### Question 10:\n",
        "*Answer here...*"
      ]
    },
    {
      "cell_type": "markdown",
      "metadata": {
        "id": "mZIMeAKpscgr"
      },
      "source": [
        "#### Bonus 2:\n",
        "*Answer here...*"
      ]
    }
  ],
  "metadata": {
    "accelerator": "GPU",
    "colab": {
      "gpuType": "T4",
      "provenance": []
    },
    "kernelspec": {
      "display_name": "Python 3",
      "name": "python3"
    },
    "language_info": {
      "name": "python"
    }
  },
  "nbformat": 4,
  "nbformat_minor": 0
}
