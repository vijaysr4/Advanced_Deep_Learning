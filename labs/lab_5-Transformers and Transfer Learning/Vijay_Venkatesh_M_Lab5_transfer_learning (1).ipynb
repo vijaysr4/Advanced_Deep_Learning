{
  "nbformat": 4,
  "nbformat_minor": 0,
  "metadata": {
    "colab": {
      "provenance": [],
      "machine_shape": "hm",
      "gpuType": "L4"
    },
    "kernelspec": {
      "name": "python3",
      "display_name": "Python 3"
    },
    "accelerator": "GPU"
  },
  "cells": [
    {
      "cell_type": "markdown",
      "metadata": {
        "id": "DlAfI8mCWAf3"
      },
      "source": [
        "<center>\n",
        "<h1><br/></h1>\n",
        "<h1>INF581A: Advanced Deep Learning</h1>\n",
        "<h2>Lab 5: Transformer and Transfer Learning</h2>\n",
        "\n",
        "<h5>Tuesday, February 04, 2025</h5>\n",
        "<br>\n",
        "</center>\n",
        "\n",
        "<hr style=\"border:10px solid gray\"> </hr>\n",
        "<p style=\"text-align: justify;\">\n",
        "This handout includes theoretical introductions, <font color='blue'>coding tasks</font> and <font color='red'>questions</font>. Before the deadline, you should submit to Moodle a <B>.ipynb</B> file named <b>Lastname_Firstname.ipynb</b> containing your notebook (with the gaps filled and your answers to the questions). Your answers should be well constructed and well justified. They should not repeat the question or generalities in the handout. When relevant, you are welcome to include figures, equations and tables derived from your own computations, theoretical proofs or qualitative explanations. One submission is required for each student. The deadline for this lab is <b>February 11\n",
        ", 2025 11:59 AM</b>. No extension will be granted. Late policy is as follows: ]0, 24] hours late → -5 pts; ]24, 48] hours late → -10 pts; > 48 hours late → not graded (zero).\n",
        "</p>\n",
        "<hr style=\"border:5px solid gray\"> </hr>\n",
        "\n",
        "<h3><b>1. Introduction:</b></h2>\n",
        "<p style=\"text-align: justify;\">\n",
        "Transfer learning that is, solving tasks with models that have been pretrained on very large amounts of data, was a game changer in many deep learning tasks. In NLP, while annotated data are scarce, raw text is virtually unlimited and readily available. Thus, the ability to learn good representations from plain text could greatly improve general natural language understanding. Learning without labels is enabled via self-supervised learning, a setting in which a system learns to predict part of its input from other parts of its input.\n",
        "\n",
        "<p>One way to realise this pre-training is to use <i>generative pre-training</i> <a href=\"https://www.cs.ubc.ca/~amuham01/LING530/papers/radford2018improving.pdf\" target='_blank'>[1]</a> of a language model. In this pre-training phase, the model will learn to predict the next tokens in a sequence given the previous ones.</p>\n",
        "<p>Thus, this phase does not require any type of annotations apart from the input text itself. Once the language model is sufficiently pre-trained, it can be fine-tuned on supervised tasks while requiring minimal changes to its architecture (replacing the classification head).</p>\n",
        "\n",
        "In this lab we will:\n",
        "<ul>\n",
        "    <li>Implement and pretrain a language model with transformer architecture.</li>\n",
        "    <li>Use the pretrained model (transfer learning) to perform a sentiment analysis task which consists of classifying some books reviews into positive and negative ones.</li>\n",
        "    <li>Compare the performance of the pretrained model to a model trained from scratch.</li>\n",
        "</ul>\n",
        "\n",
        "<h3><b>2. The Model:</b></h3>\n",
        "<p style=\"text-align: justify;\">\n",
        "\n",
        "Our model is based on Transformers<a href=\"https://arxiv.org/abs/1706.03762\" target='_blank'>[2]</a>. While the Transformer is a model that follows the encoder-decoder structure, it is possible to use only the encoder part (as in BERT) or the decoder part (as in gpt) to perform some specific tasks. In this notebook, we use a multi-layer Transformer decoder for the language model. Fortunatly, PyTorch recent releases include a standard transformer blocks that can be easily used and adapted.\n",
        "\n",
        "Let's start by implementing the model. The different layers used in this model are the following:\n",
        "\n",
        "- The embedding layer\n",
        "- Positional Embedding\n",
        "- The transformer layers\n",
        "- Linear layer for decoding and classification\n",
        "<center>\n",
        "<img src='https://am3pap003files.storage.live.com/y4m6sN7mGXA8_lmRiUuuAAbecrSrMa1IumytUCiEJEkIKuoKV2uNoqTmo6mU_PadFeMESJTRjNbM3Q9qIRMiXLMxPDBdKKFC5cX5UFslx44IxVGXBAI7Cipp5A38tVQdwrioDNyWAMIbYb7dQTXoa0T6oRDBl1kgGn2D9JV8wuna3Jhrsd3TgPQNZZnoO9ZpmaN?width=815&height=680&cropmode=none' alt=\"Drawing\" width= '500px'/>\n",
        "\n",
        "The same model can be used for language modeling and classification by just replacing the last layer in the model. This is why we split our model into two modules:\n",
        "\n",
        "- base module: which consists of the 3 first layers.\n",
        "- classifier module: which consists of the last layer.\n",
        "\n",
        "After the pretraining, the parameters of the base model can be \"transferred\" to the model used in the classfication task, while the classifier module should be replaced by a new head initialized randomly.\n",
        "\n",
        "Some of the code is adapted from this nice tutorial: <a href=\"https://pytorch.org/tutorials/beginner/transformer_tutorial.html\" target=\"_blank\">https://pytorch.org/tutorials/beginner/transformer_tutorial.html</a>\n",
        "\n"
      ]
    },
    {
      "cell_type": "code",
      "metadata": {
        "id": "IqukuIe0Rb_c"
      },
      "source": [
        "import math\n",
        "import matplotlib.pyplot as plt\n",
        "from typing import Optional, List\n",
        "\n",
        "import torch\n",
        "from torch import Tensor\n",
        "import torch.nn as nn\n",
        "from torch.nn.utils.rnn import pad_sequence\n",
        "\n",
        "device = torch.device(\"cuda\" if torch.cuda.is_available() else \"cpu\")"
      ],
      "execution_count": 25,
      "outputs": []
    },
    {
      "cell_type": "markdown",
      "source": [
        "\n",
        "<b><h4><font color='blue'>\n",
        "<hr style=\"border:10px solid blue\"> </hr>\n",
        "Task 1: </b><br>\n",
        "Fill in the gaps in the `TransformerModel()` class to implement the described model.\n",
        "<hr style=\"border:10px solid blue\"> </hr>\n",
        "</font></h4>"
      ],
      "metadata": {
        "id": "roNlBhkJPIrk"
      }
    },
    {
      "cell_type": "markdown",
      "metadata": {
        "id": "5FF6fjkqgN39"
      },
      "source": [
        "### The Model"
      ]
    },
    {
      "cell_type": "code",
      "metadata": {
        "id": "p0cj9WkSFQwl"
      },
      "source": [
        "class TransformerModel(nn.Module):\n",
        "    def __init__(self,\n",
        "                 ntoken: int,\n",
        "                 nhead: int,\n",
        "                 nhid: int,\n",
        "                 nlayers: int,\n",
        "                 dropout: float = 0.5) -> None:\n",
        "        super(TransformerModel, self).__init__()\n",
        "        '''\n",
        "        ntokens: the size of vocabulary\n",
        "        nhid: the hidden dimension of the model.\n",
        "        We assume that embedding_dim = nhid\n",
        "        nlayers: the number of nn.TransformerEncoderLayer in nn.TransformerEncoder\n",
        "        nhead: the number of heads in the multiheadattention models\n",
        "        dropout: the dropout value\n",
        "         '''\n",
        "        self.model_type = \"Transformer\"\n",
        "        self.encoder = nn.Embedding(ntoken, nhid) # fill me, nhid = the dim_embed\n",
        "        self.pos_encoder = PositionalEncoding(nhid, dropout) #fill me, the PositionalEncoding class is implemented in the next cell\n",
        "        encoder_layers = nn.TransformerEncoderLayer(\n",
        "            d_model=nhid,\n",
        "            nhead=nhead,\n",
        "            dim_feedforward=nhid,  # here we assume the feedforward dimension equals nhid\n",
        "            dropout=dropout\n",
        "            ) #fill me we assume nhid = d_model = dim_feedforward\n",
        "        self.transformer_encoder = nn.TransformerEncoder(encoder_layers, num_layers=nlayers) #fill me\n",
        "        self.nhid = nhid\n",
        "        self.init_weights()\n",
        "\n",
        "    def generate_square_subsequent_mask(self, sz: int) -> torch.Tensor:\n",
        "        \"\"\"\n",
        "        Generate a square mask for the sequence to prevent attention to future tokens.\n",
        "\n",
        "        Args:\n",
        "            sz (int): Size of the square mask (sequence length).\n",
        "\n",
        "        Returns:\n",
        "            torch.Tensor: Mask tensor of shape [sz, sz].\n",
        "        \"\"\"\n",
        "        mask = (torch.triu(torch.ones(sz, sz)) == 1).transpose(0, 1)\n",
        "        mask = (\n",
        "            mask.float()\n",
        "            .masked_fill(mask == 0, float(\"-inf\"))\n",
        "            .masked_fill(mask == 1, float(0.0))\n",
        "        )\n",
        "        return mask\n",
        "\n",
        "    def init_weights(self) -> None:\n",
        "        \"\"\"Initialize the weights of the encoder.\"\"\"\n",
        "        initrange = 0.1\n",
        "        self.encoder.weight.data.uniform_(-initrange, initrange)\n",
        "\n",
        "    def forward(self,\n",
        "                src: torch.Tensor,\n",
        "                src_mask: torch.Tensor) -> torch.Tensor:\n",
        "        \"\"\"\n",
        "        Forward pass through the Transformer model.\n",
        "\n",
        "        Args:\n",
        "            src (torch.Tensor): Input tensor of shape [seq_len, batch_size].\n",
        "            src_mask (torch.Tensor): Square subsequent mask of shape [seq_len, seq_len].\n",
        "\n",
        "        Returns:\n",
        "            torch.Tensor: Output tensor from the transformer encoder.\n",
        "        \"\"\"\n",
        "        src = self.encoder(src) * math.sqrt(self.nhid)\n",
        "        src = self.pos_encoder(src)\n",
        "        output = self.transformer_encoder(src, src_mask)\n",
        "        return output\n",
        "\n",
        "\n",
        "class ClassificationHead(nn.Module):\n",
        "    def __init__(self,\n",
        "                 nhid: int,\n",
        "                 nclasses: int) -> None:\n",
        "        \"\"\"\n",
        "        Initialize the classification head.\n",
        "\n",
        "        Args:\n",
        "            nhid (int): Hidden dimension size.\n",
        "            nclasses (int): Number of output classes.\n",
        "        \"\"\"\n",
        "        super(ClassificationHead, self).__init__()\n",
        "        self.decoder = nn.Linear(nhid, nclasses)\n",
        "        self.init_weights()\n",
        "\n",
        "    def init_weights(self) -> None:\n",
        "        \"\"\"Initialize the weights of the decoder.\"\"\"\n",
        "        initrange = 0.1\n",
        "        self.decoder.bias.data.zero_()\n",
        "        self.decoder.weight.data.uniform_(-initrange, initrange)\n",
        "\n",
        "    def forward(self, src: torch.Tensor) -> torch.Tensor:\n",
        "        \"\"\"\n",
        "        Forward pass through the classification head.\n",
        "\n",
        "        Args:\n",
        "            src (torch.Tensor): Input tensor from the Transformer model.\n",
        "\n",
        "        Returns:\n",
        "            torch.Tensor: Logits for each class.\n",
        "        \"\"\"\n",
        "        output = self.decoder(src)\n",
        "        return output\n",
        "\n",
        "class Model(nn.Module):\n",
        "    def __init__(self,\n",
        "                 ntoken: int,\n",
        "                 nhead: int,\n",
        "                 nhid: int,\n",
        "                 nlayers: int,\n",
        "                 nclasses: int,\n",
        "                 dropout: float = 0.5) -> None:\n",
        "        \"\"\"\n",
        "        Initialize the complete model combining the Transformer base and the classification head.\n",
        "\n",
        "        Args:\n",
        "            ntoken (int): Vocabulary size.\n",
        "            nhead (int): Number of attention heads.\n",
        "            nhid (int): Hidden dimension size.\n",
        "            nlayers (int): Number of Transformer encoder layers.\n",
        "            nclasses (int): Number of output classes.\n",
        "            dropout (float, optional): Dropout probability. Defaults to 0.5.\n",
        "        \"\"\"\n",
        "        super(Model, self).__init__()\n",
        "        self.base = TransformerModel(ntoken, nhead, nhid, nlayers, dropout)\n",
        "        self.classifier = ClassificationHead(nhid, nclasses)\n",
        "\n",
        "    def forward(self,\n",
        "                src: torch.Tensor,\n",
        "                src_mask: torch.Tensor) -> torch.Tensor:\n",
        "        \"\"\"\n",
        "        Forward pass through the full model.\n",
        "\n",
        "        Args:\n",
        "            src (torch.Tensor): Input tensor of shape [seq_len, batch_size].\n",
        "            src_mask (torch.Tensor): Mask tensor of shape [seq_len, seq_len].\n",
        "\n",
        "        Returns:\n",
        "            torch.Tensor: Output logits from the classifier.\n",
        "        \"\"\"\n",
        "        # base model\n",
        "        x = self.base(src, src_mask)\n",
        "        # classifier model\n",
        "        output = self.classifier(x)\n",
        "        return output"
      ],
      "execution_count": 26,
      "outputs": []
    },
    {
      "cell_type": "code",
      "metadata": {
        "id": "kt2QQohaFZry"
      },
      "source": [
        "class PositionalEncoding(nn.Module):\n",
        "  # for a more in depth explanation we encourage you to read:\n",
        "  # https://medium.com/swlh/elegant-intuitions-behind-positional-encodings-dc48b4a4a5d1\n",
        "    def __init__(self,\n",
        "                 nhid: int,\n",
        "                 dropout: float = 0.1,\n",
        "                 max_len: int = 5000) -> None:\n",
        "        \"\"\"\n",
        "        Initialize the PositionalEncoding module.\n",
        "\n",
        "        Args:\n",
        "            nhid (int): The hidden (and embedding) dimension.\n",
        "            dropout (float, optional): Dropout probability. Defaults to 0.1.\n",
        "            max_len (int, optional): Maximum length for which to precompute positional encodings. Defaults to 5000.\n",
        "        \"\"\"\n",
        "        super(PositionalEncoding, self).__init__()\n",
        "        self.dropout = nn.Dropout(p=dropout)\n",
        "\n",
        "        pe = torch.zeros(max_len, nhid)\n",
        "        position = torch.arange(0, max_len, dtype=torch.float).unsqueeze(1)\n",
        "        div_term = torch.exp(\n",
        "            torch.arange(0, nhid, 2).float() * (-math.log(10000.0) / nhid)\n",
        "        )\n",
        "        pe[:, 0::2] = torch.sin(position * div_term)\n",
        "        pe[:, 1::2] = torch.cos(position * div_term)\n",
        "        pe = pe.unsqueeze(0).transpose(0, 1)\n",
        "        self.register_buffer(\"pe\", pe)\n",
        "\n",
        "    def forward(self,\n",
        "                x: Tensor) -> Tensor:\n",
        "        \"\"\"\n",
        "        Add positional encodings to the input embeddings.\n",
        "\n",
        "        Args:\n",
        "            x (Tensor): Input tensor of shape [sequence_length, batch_size, embedding_dim].\n",
        "\n",
        "        Returns:\n",
        "            Tensor: Tensor with positional encodings added, of the same shape as input.\n",
        "        \"\"\"\n",
        "        x = x + self.pe[: x.size(0), :]\n",
        "        return self.dropout(x)"
      ],
      "execution_count": 27,
      "outputs": []
    },
    {
      "cell_type": "markdown",
      "source": [
        "<b><h4><font color='red'>\n",
        "<hr style=\"border:10px solid red\"> </hr>\n",
        "Question 1 (4 points): </b><br>\n",
        "What is the role of the square mask in our implementation? What about the positional encoding?\n",
        "<hr style=\"border:10px solid red\"> </hr>\n",
        "</font></h4>\n",
        "\n",
        "\n",
        "\n",
        "\n",
        "\n",
        "\n"
      ],
      "metadata": {
        "id": "H1FwuPBuPyFT"
      }
    },
    {
      "cell_type": "markdown",
      "source": [
        "<b><h4><font color='green'>\n",
        "<hr style=\"border:10px solid green\"> </hr>\n",
        "Answer 1: </b><br>\n",
        "\n",
        "#### Square Mask\n",
        "\n",
        "It prevents a token from “seeing” future tokens during attention computations.\n",
        "\n",
        "The mask is a square matrix (of shape```[sequence_length, sequence_length]```) that prevents a given token from attending to tokens that come later in the sequence. It does this by setting the attention scores for future tokens to negative infinity, so that after applying the softmax, these positions contribute effectively zero weight.\n",
        "\n",
        "This ensures that when predicting a token at position $i$, the model only uses information from positions $ ≤ i$, thus avoiding any information leakage from the future.\n",
        "\n",
        "\n",
        "#### Positional Encoding\n",
        "\n",
        "It gives ordering information into the input embeddings, allowing the transformer to differentiate between tokens based on their positions in the sequence.\n",
        "\n",
        "The positional encoding is added to the token embeddings and typically uses sinusoidal functions to generate a unique positional representation for each token based on its index in the sequence. So the model gains access to information about the relative or absolute position of tokens in the sequence, enabling it to capture sequential relationships.\n",
        "\n",
        "<hr style=\"border:10px solid green\"> </hr>\n",
        "</font></h4>\n",
        "\n"
      ],
      "metadata": {
        "id": "IB9wyvMUP8FZ"
      }
    },
    {
      "cell_type": "markdown",
      "source": [
        "<b><h4><font color='red'>\n",
        "<hr style=\"border:10px solid red\"> </hr>\n",
        "Question 2 (2 points): </b><br>\n",
        "Why do we have to replace the classification head? What is the main difference between the <i>language modeling</i> and the <i>classification</i> tasks?\n",
        "<hr style=\"border:10px solid red\"> </hr>\n",
        "</font></h4>\n"
      ],
      "metadata": {
        "id": "q7PIyZg4U4oG"
      }
    },
    {
      "cell_type": "markdown",
      "source": [
        "<b><h4><font color='green'>\n",
        "<hr style=\"border:10px solid green\"> </hr>\n",
        "Answer 2: </b><br>\n",
        "\n",
        "The current model learns to predict the next word by outputting scores for every word in a large vocabulary. For the classification task (like deciding if a review is positive or negative), we only need to pick one label out of a few options. That’s why we remove the pretraining head and replace it with a new one designed to give just a few outputs (one for each class).\n",
        "\n",
        "In language modeling, the goal is to predict the next word at each step, so the model works at the word level. In contrast, classification requires the model to look at the whole sentence or review and decide on one overall label.\n",
        "\n",
        "```Example:```\n",
        "- For language modeling:  given the input \"The cat sat on the\", the model predicts the next word from a vocabulary of 10,000 words.\n",
        "- For sentiment classification: given a full review like \"The movie was fantastic\", the model only needs to decide between 2 labels: positive or negative.\n",
        "\n",
        "That's why we replace the head: the original head outputs 10,000 options, but for classification we only need 2.\n",
        "\n",
        "<hr style=\"border:10px solid green\"> </hr>\n",
        "</font></h4>\n",
        "\n"
      ],
      "metadata": {
        "id": "3EU6M747VMEp"
      }
    },
    {
      "cell_type": "markdown",
      "source": [
        "<b><h4><font color='red'>\n",
        "<hr style=\"border:10px solid red\"> </hr>\n",
        "Question 3 (6 points): </b><br>\n",
        "How many trainable parameters does the model have in the case of <br>\n",
        "<ul>\n",
        "<font color='red'>\n",
        "    <li><i>language modeling</i> task.</li>\n",
        "    <li><i>classification</i> task.</li>\n",
        "</ul>\n",
        "Please detail your answer. You can omit the biases and the parameters of normalization layers.<br>\n",
        "<hr style=\"border:10px solid red\"> </hr>\n",
        "</font></h4>\n",
        "\n"
      ],
      "metadata": {
        "id": "eIHvBUqGVeH0"
      }
    },
    {
      "cell_type": "markdown",
      "source": [
        "<b><h4><font color='green'>\n",
        "<hr style=\"border:10px solid green\"> </hr>\n",
        "Answer 3: </b><br>\n",
        "\n",
        "We denote:\n",
        "- $$V = vocabulary\\ size $$\n",
        "\n",
        "- $$d = hidden\\ (and\\ embedding)\\ dimension$$\n",
        "- $$L = number\\ of\\ Transformer\\ layers$$\n",
        "- $$C = number\\ of\\ classes\\ (for\\ language\\ modeling, C = V; for\\ classification, e.g., C = 2)$$\n",
        "\n",
        "---\n",
        "\n",
        "1. **Embedding Layer**  \n",
        "   The embedding layer has:  \n",
        "   $$\\text{Parameters} = V \\times d = Vd$$\n",
        "\n",
        "2. **Transformer Encoder Layers**  \n",
        "   Each Transformer layer consists of two parts:\n",
        "\n",
        "   ** Multi-head Self-Attention:**  \n",
        "   - Combined projection for query, key, and value: $3d^2$  \n",
        "   - Output projection: $d^2$  \n",
        "     \n",
        "   Total for attention: $3d^2 + d^2 = 4d^2$\n",
        "\n",
        "   **Feed-Forward Network:**  \n",
        "   - First linear layer: $d^2$  \n",
        "   - Second linear layer: $d^2$  \n",
        "     \n",
        "   Total for feed-forward: $d^2 + d^2 = 2d^2$\n",
        "\n",
        "   **Total per layer:** $4d^2 + 2d^2 = 6d^2$\n",
        "\n",
        "   For $L$ layers, the total is: $6L\\,d^2$\n",
        "\n",
        "3. **Final Linear Layer**  \n",
        "   This layer maps from the hidden dimension to the output dimension: $\\text{Parameters} = d \\times C = dC$\n",
        "\n",
        "---\n",
        "\n",
        "**Overall Total Trainable Parameters:**  $\\text{Total} = Vd + 6L\\,d^2 + dC$\n",
        "\n",
        "---\n",
        "\n",
        "- **For the Language Modeling Task:**  \n",
        "  Here, the output layer predicts over the entire vocabulary, so $C = V$. Then,  \n",
        "  $$\\text{Total}_{\\text{LM}} = Vd + 6L\\,d^2 + dV = 2Vd + 6L\\,d^2$$\n",
        "\n",
        "- **For the Classification Task:**  \n",
        "  For example, if there are 2 classes, then $C = 2$. Thus,  \n",
        "  $$\\text{Total}_{\\text{CLS}} = Vd + 6L\\,d^2 + 2d$$\n",
        "\n",
        "\n",
        "<hr style=\"border:10px solid green\"> </hr>\n",
        "</font></h4>\n"
      ],
      "metadata": {
        "id": "LLrionbqV3Sf"
      }
    },
    {
      "cell_type": "markdown",
      "metadata": {
        "id": "SfEYHJx2JW6l"
      },
      "source": [
        "Let's verify if our model works, by applying one inference step"
      ]
    },
    {
      "cell_type": "code",
      "metadata": {
        "id": "rhb2gkUhJMR0",
        "outputId": "edae519a-f194-422c-c41b-a13a1b836ed9",
        "colab": {
          "base_uri": "https://localhost:8080/"
        }
      },
      "source": [
        "ntokens = 100  # the size of vocabulary\n",
        "nhid = 200  # hidden dimension\n",
        "nlayers = 4  # the number of nn.TransformerEncoderLayer in nn.TransformerEncoder\n",
        "nhead = 2  # the number of heads in the multiheadattention models\n",
        "dropout = 0  # the dropout value\n",
        "\n",
        "model = Model(ntokens, nhead, nhid, nlayers, ntokens, dropout).to(device)\n",
        "dummy_input = torch.tensor([[2, 6, 2, 5, 43, 21]]).to(device)\n",
        "src_mask = model.base.generate_square_subsequent_mask(1).to(device)\n",
        "out = model.forward(dummy_input, src_mask)\n",
        "\n",
        "print(out.shape) # is it the right shape?\n",
        "# Yes the shape is right\n",
        "# torch.Size([1, 6, 100])"
      ],
      "execution_count": 28,
      "outputs": [
        {
          "output_type": "stream",
          "name": "stdout",
          "text": [
            "torch.Size([1, 6, 100])\n"
          ]
        }
      ]
    },
    {
      "cell_type": "markdown",
      "metadata": {
        "id": "i74NN897Fcit"
      },
      "source": [
        "## 3.Vocabulary and Tokenization\n",
        "\n",
        "To train the language model, the text in our corpus should be first tokenized. We use sentencepiece <a href=\"https://github.com/google/sentencepiece\">https://github.com/google/sentencepiece</a> that implements byte-pair-encoding (BPE), a sub-word tokenization algorithm.<br>\n",
        "The vocabulay is given in <code>dict.txt</code> file. Let's load it, and map each token to a unique index.<br>\n",
        "\n",
        "In our experiments we use datasets that are already tokenized.\n",
        "\n",
        "\n",
        "<b><h4><font color='blue'>\n",
        "<hr style=\"border:10px solid blue\"> </hr>\n",
        "Task 2: </b><br>\n",
        "Fill in the gaps to create a <code>token2ind</code> and <code>ind2token</code> mapping dictionaries\n",
        "<hr style=\"border:10px solid blue\"> </hr>\n",
        "</font></h4>"
      ]
    },
    {
      "cell_type": "code",
      "metadata": {
        "id": "5qjd26ghWuff",
        "outputId": "9f412ba0-db4c-4164-eeaa-9bee81920bf3",
        "colab": {
          "base_uri": "https://localhost:8080/"
        }
      },
      "source": [
        "!wget https://raw.githubusercontent.com/moussaKam/transfer_learning_transformers/main/dict.txt\n",
        "!head -5 dict.txt"
      ],
      "execution_count": 29,
      "outputs": [
        {
          "output_type": "stream",
          "name": "stdout",
          "text": [
            "--2025-02-11 09:43:07--  https://raw.githubusercontent.com/moussaKam/transfer_learning_transformers/main/dict.txt\n",
            "Resolving raw.githubusercontent.com (raw.githubusercontent.com)... 185.199.109.133, 185.199.108.133, 185.199.111.133, ...\n",
            "Connecting to raw.githubusercontent.com (raw.githubusercontent.com)|185.199.109.133|:443... connected.\n",
            "HTTP request sent, awaiting response... 200 OK\n",
            "Length: 577587 (564K) [text/plain]\n",
            "Saving to: ‘dict.txt.1’\n",
            "\n",
            "dict.txt.1          100%[===================>] 564.05K  --.-KB/s    in 0.007s  \n",
            "\n",
            "2025-02-11 09:43:08 (83.7 MB/s) - ‘dict.txt.1’ saved [577587/577587]\n",
            "\n",
            "▁d 1\n",
            "es 1\n",
            "▁l 1\n",
            "en 1\n",
            "on 1\n"
          ]
        }
      ]
    },
    {
      "cell_type": "code",
      "metadata": {
        "id": "vFdH_-JeFbGA",
        "outputId": "be3abaa5-d622-48e9-e38d-8ac627ae46aa",
        "colab": {
          "base_uri": "https://localhost:8080/"
        }
      },
      "source": [
        "path_vocab = \"dict.txt\"\n",
        "token2ind = {\"<sos>\": 0, \"<pad>\": 1, \"<eos>\": 2, \"<oov>\": 3} # the 4 first indices are reserved to special tokens\n",
        "offset = len(token2ind)\n",
        "\n",
        "with open(path_vocab, \"r\") as f:\n",
        "    for idx, line in enumerate(f):\n",
        "        word = line.split()[0].strip()\n",
        "        token2ind[word] = idx + offset\n",
        "\n",
        "ind2token =  {v: k for k, v in token2ind.items()}\n",
        "\n",
        "print(ind2token[1111])"
      ],
      "execution_count": 30,
      "outputs": [
        {
          "output_type": "stream",
          "name": "stdout",
          "text": [
            "▁trop\n"
          ]
        }
      ]
    },
    {
      "cell_type": "markdown",
      "metadata": {
        "id": "XOExGODajN8p"
      },
      "source": [
        "## 4.Data Loader\n",
        "We use the <code>DataLoader</code> class, to load our dataset and generate the mini-batches used in the training. <code>get_loader()</code> returns a <code>DataLoader</code>  object, which is an iterable over data samples. The data loader can return mini-batches for language modeling or sequence classification based on the <code>task</code> argument that we pass to <code>get_loader()</code> function. Currently the function supports <i>language_modeling</i> and <i>classification</i> tasks.<br>\n",
        "\n",
        "For the <i>language_modeling</i> task, both the input and the target are batches of sequences. In fact, the target is basically a shifted version of\n",
        "the input, in such a way that each token is predicted given all previous tokens. For example, for a sequence A B C D: <br>\n",
        "<b>Input:</b><code>\\<sos\\></code>A B C D<br>\n",
        "<b>Output:</b>A B C D<code>\\<eos\\></code><br>\n",
        "\n",
        "For the <i>classification</i> task,\n",
        "the input is a batch of sequences and\n",
        "the target is a batch of scalar labels.<br>\n",
        "For more information about data loaders check: <a href=\"https://pytorch.org/docs/stable/data.html\">https://pytorch.org/docs/stable/data.html</a>\n",
        "\n",
        "\n",
        "<b><h4><font color='blue'>\n",
        "<hr style=\"border:10px solid blue\"> </hr>\n",
        "Task 3: </b><br>\n",
        "Fill in the gap inside <code>Dataset</code> class in order to create the input sequence\n",
        "<hr style=\"border:10px solid blue\"> </hr>\n",
        "</font></h4>"
      ]
    },
    {
      "cell_type": "code",
      "metadata": {
        "id": "Y0jN-Ar9i5Q1"
      },
      "source": [
        "import numpy\n",
        "import torch\n",
        "from torch.nn.utils.rnn import pad_sequence\n",
        "from torch.utils.data import DataLoader, Dataset\n",
        "\n",
        "\n",
        "class Dataset(Dataset):\n",
        "    def __init__(\n",
        "        self,\n",
        "        path_documents,\n",
        "        path_labels=None,\n",
        "        token2ind={},\n",
        "        max_len=512,\n",
        "        task=\"language_modeling\",\n",
        "    ):\n",
        "        self.task = task\n",
        "        self.max_len = max_len\n",
        "        self.token2ind = token2ind\n",
        "        self.documents = []\n",
        "        self.labels = []\n",
        "        with open(path_documents, \"r\") as f1:\n",
        "            for line in f1:\n",
        "                self.documents.append(line.strip())\n",
        "        if task == \"classification\":\n",
        "            with open(path_labels, \"r\") as f1:\n",
        "                for line in f1:\n",
        "                    self.labels.append(int(line.strip()))\n",
        "            assert len(self.labels) == len(self.documents)\n",
        "\n",
        "    def __len__(self):\n",
        "        return len(self.documents)\n",
        "\n",
        "    def __getitem__(self, index):\n",
        "        sequence = self.documents[index].split()\n",
        "        if len(sequence) > self.max_len - 1:\n",
        "            sequence = sequence[: self.max_len - 1]\n",
        "        source_sequence = [self.token2ind[\"<sos>\"]] + [\n",
        "            self.token2ind.get(token, self.token2ind[\"<oov>\"]) for token in sequence\n",
        "        ]\n",
        "\n",
        "        if self.task == \"language_modeling\":\n",
        "            target = source_sequence[1:]\n",
        "            target.append(self.token2ind[\"<eos>\"])\n",
        "        elif self.task == \"classification\":\n",
        "            target = [self.labels[index]]\n",
        "        sample = {\n",
        "            \"source_sequence\": torch.tensor(source_sequence),\n",
        "            \"target\": torch.tensor(target),\n",
        "        }\n",
        "        return sample\n",
        "\n",
        "\n",
        "def MyCollator(batch):\n",
        "    source_sequences = pad_sequence(\n",
        "        #we use padding to match the length of the sequences in the same batch\n",
        "        [sample[\"source_sequence\"] for sample in batch], padding_value=token2ind[\"<pad>\"]\n",
        "    )\n",
        "    target = pad_sequence(\n",
        "        [sample[\"target\"] for sample in batch], padding_value=token2ind[\"<pad>\"]\n",
        "    )\n",
        "    return source_sequences, target.reshape(-1)\n",
        "\n",
        "\n",
        "def get_loader(\n",
        "    path_documents,\n",
        "    path_labels=None,\n",
        "    token2ind={},\n",
        "    max_len=512,\n",
        "    batch_size=32,\n",
        "    task=\"language_modeling\",\n",
        "):\n",
        "    dataset = Dataset(\n",
        "        path_documents,\n",
        "        path_labels=path_labels,\n",
        "        token2ind=token2ind,\n",
        "        max_len=512,\n",
        "        task=task,\n",
        "    )\n",
        "    data_loader = DataLoader(\n",
        "        dataset=dataset,\n",
        "        batch_size=batch_size,\n",
        "        shuffle=True,\n",
        "        collate_fn=MyCollator,\n",
        "        pin_memory=True,\n",
        "        drop_last=True,\n",
        "    )\n",
        "    return data_loader"
      ],
      "execution_count": 31,
      "outputs": []
    },
    {
      "cell_type": "markdown",
      "metadata": {
        "id": "uTns4lHrjUTa"
      },
      "source": [
        "## 5.The Training\n",
        "In this section we will implement a <code>train()</code> function that trains our model for one epoch. As we said, in this lab we will use a language modeling objective in\n",
        "the pretraining phase. Given the previous tokens in a sequence,\n",
        "the model will try to predict\n",
        "the next one. The same function can be used for both pretraining and fine-tuning phase.<br>\n",
        "\n",
        "The training procedure is as follows:<br>\n",
        "1. Iterate over the data-loader.<br>\n",
        "2. In each iteration perform one forward pass.<br>\n",
        "3. Compute\n",
        "the loss through back-propagation.<br>\n",
        "4. update\n",
        "the parameters of your model using sgd.<br>\n",
        "5. repeat for <i>n</i> epochs<br>\n",
        "\n",
        "<b>N.B:</b>  While in\n",
        "the <i>language_modeling</i> task all\n",
        "the vectors at\n",
        "the output of\n",
        "the base model are used, in\n",
        "the <i>classification</i> task we only use\n",
        "the vector representing\n",
        "the last token to perform\n",
        "the prediction.<br>\n",
        "\n",
        "<b><h4><font color='blue'>\n",
        "<hr style=\"border:10px solid blue\"> </hr>\n",
        "Task 4: </b><br>\n",
        "Fill in the gaps in <code>train()</code> function.\n",
        "<hr style=\"border:10px solid blue\"> </hr>\n",
        "</font></h4>"
      ]
    },
    {
      "cell_type": "code",
      "metadata": {
        "id": "4_jwosiLjRsS"
      },
      "source": [
        "def train(\n",
        "    path_data_train: str,\n",
        "    path_labels_train: Optional[str] = None,\n",
        "    path_data_valid: Optional[str] = None,\n",
        "    save_interval: int = -1,\n",
        "    log_interval: int = 5,\n",
        "    task: str = \"language_modeling\",\n",
        "    batch_size: int = 32,\n",
        ") -> List[float]:\n",
        "    \"\"\"\n",
        "    Trains the model for one epoch on the specified task (language modeling or classification).\n",
        "\n",
        "    This function loads the training data using a data loader, performs forward passes,\n",
        "    computes the cross-entropy loss, backpropagates the gradients, and updates the model's\n",
        "    parameters using an optimizer. It logs the average loss every `log_interval` steps and\n",
        "    returns a list of these average losses.\n",
        "\n",
        "    Args:\n",
        "        path_data_train (str): Path to the training data file.\n",
        "        path_labels_train (Optional[str]): Path to the training labels file (if applicable).\n",
        "        path_data_valid (Optional[str]): Path to the validation data file (if applicable).\n",
        "        save_interval (int): Interval at which to save model checkpoints (default: -1, meaning not used).\n",
        "        log_interval (int): Number of steps between loss logging (default: 5).\n",
        "        task (str): Task type, either \"language_modeling\" or \"classification\" (default: \"language_modeling\").\n",
        "        batch_size (int): Batch size to use during training (default: 32).\n",
        "\n",
        "    Returns:\n",
        "        List[float]: A list of average loss values logged during training.\n",
        "    \"\"\"\n",
        "    model.train()\n",
        "    total_loss = 0.0\n",
        "    ntokens = len(token2ind)\n",
        "    data_loader = get_loader(\n",
        "        path_data_train,\n",
        "        path_labels_train,\n",
        "        token2ind,\n",
        "        task=task,\n",
        "        batch_size=batch_size,\n",
        "    )\n",
        "\n",
        "    losses = []\n",
        "    for idx, data in enumerate(data_loader): #step 1\n",
        "        optimizer.zero_grad()\n",
        "        src_mask = model.base.generate_square_subsequent_mask(data[0].size(0)).to(\n",
        "            device\n",
        "        )\n",
        "        input = data[0].to(device)\n",
        "        output = model(input, src_mask) #step 2\n",
        "        if task == 'classification':\n",
        "            # last vector only\n",
        "            output = output[-1, :]\n",
        "        output = output.view(-1, output.shape[-1])\n",
        "        target =  data[1]\n",
        "        target = target.to(device)\n",
        "        loss =  criterion(output, target) #fill me, Cross entropy check next cells\n",
        "        #fill me step 3, backward propagation\n",
        "\n",
        "        loss.backward()\n",
        "\n",
        "        torch.nn.utils.clip_grad_norm_(model.parameters(), 0.5) # prevent exploding gradient\n",
        "        #fill me step 4, optimizer step\n",
        "        optimizer.step()\n",
        "\n",
        "        total_loss += loss.item()\n",
        "        if idx % log_interval == 0 and idx > 0:\n",
        "            cur_loss = total_loss / log_interval\n",
        "            print(\n",
        "                \"| epoch {:3d} | {:5d}/{:5d} steps | \"\n",
        "                \"loss {:5.5f} | ppl {:8.3f}\".format(\n",
        "                    epoch, idx, len(data_loader), cur_loss, math.exp(cur_loss),\n",
        "                )\n",
        "            )\n",
        "            losses.append(cur_loss)\n",
        "            total_loss = 0\n",
        "    return losses"
      ],
      "execution_count": 32,
      "outputs": []
    },
    {
      "cell_type": "code",
      "metadata": {
        "id": "pgf6BDB9jUr6"
      },
      "source": [
        "ntokens = len(token2ind) #fill me # the size of vocabulary\n",
        "nhid = 200  # the dimension of the feedforward network model in nn.TransformerEncoder\n",
        "nlayers = 4  # the number of nn.TransformerEncoderLayer in nn.TransformerEncoder\n",
        "nhead = 2  # the number of heads in the multiheadattention models\n",
        "dropout = 0  # the dropout value\n",
        "\n",
        "nclasses = 2 # for classification task only\n",
        "\n",
        "model = Model(ntokens, nhead, nhid, nlayers, ntokens, dropout).to(device)"
      ],
      "execution_count": 33,
      "outputs": []
    },
    {
      "cell_type": "code",
      "metadata": {
        "id": "u-OLy4KIkDwf"
      },
      "source": [
        "# optimization paramerters\n",
        "\n",
        "criterion = nn.CrossEntropyLoss(ignore_index=token2ind['<pad>'])\n",
        "lr = 0.0003  # learning rate\n",
        "optimizer = torch.optim.Adam(model.parameters(), lr=lr)"
      ],
      "execution_count": 34,
      "outputs": []
    },
    {
      "cell_type": "code",
      "metadata": {
        "id": "Bwh3n9xZQy4e",
        "outputId": "f9c0621a-e6a8-4572-cfa8-eabe1de05da6",
        "colab": {
          "base_uri": "https://localhost:8080/"
        }
      },
      "source": [
        "!wget https://raw.githubusercontent.com/moussaKam/transfer_learning_transformers/main/pretraining_subset.txt\n",
        "path_data_train = \"pretraining_subset.txt\""
      ],
      "execution_count": 35,
      "outputs": [
        {
          "output_type": "stream",
          "name": "stdout",
          "text": [
            "--2025-02-11 09:43:09--  https://raw.githubusercontent.com/moussaKam/transfer_learning_transformers/main/pretraining_subset.txt\n",
            "Resolving raw.githubusercontent.com (raw.githubusercontent.com)... 185.199.108.133, 185.199.109.133, 185.199.110.133, ...\n",
            "Connecting to raw.githubusercontent.com (raw.githubusercontent.com)|185.199.108.133|:443... connected.\n",
            "HTTP request sent, awaiting response... 200 OK\n",
            "Length: 10146460 (9.7M) [text/plain]\n",
            "Saving to: ‘pretraining_subset.txt.1’\n",
            "\n",
            "pretraining_subset. 100%[===================>]   9.68M  --.-KB/s    in 0.03s   \n",
            "\n",
            "2025-02-11 09:43:09 (298 MB/s) - ‘pretraining_subset.txt.1’ saved [10146460/10146460]\n",
            "\n"
          ]
        }
      ]
    },
    {
      "cell_type": "code",
      "metadata": {
        "id": "0m11g4ScjZaR",
        "outputId": "6ca9b16c-edc3-4f20-da6d-a598050f7243",
        "colab": {
          "base_uri": "https://localhost:8080/"
        }
      },
      "source": [
        "#pretraining on a tiny subset\n",
        "log_interval = 500\n",
        "epochs = 2\n",
        "for epoch in range(1, epochs + 1): #5\n",
        "    train(\n",
        "        path_data_train,\n",
        "        save_interval=-1,\n",
        "        task=\"language_modeling\",\n",
        "        batch_size=16,\n",
        "        log_interval=log_interval,\n",
        "    )"
      ],
      "execution_count": 36,
      "outputs": [
        {
          "output_type": "stream",
          "name": "stdout",
          "text": [
            "| epoch   1 |   500/ 3125 steps | loss 7.30942 | ppl 1494.316\n",
            "| epoch   1 |  1000/ 3125 steps | loss 6.47200 | ppl  646.778\n",
            "| epoch   1 |  1500/ 3125 steps | loss 6.20084 | ppl  493.163\n",
            "| epoch   1 |  2000/ 3125 steps | loss 6.03431 | ppl  417.512\n",
            "| epoch   1 |  2500/ 3125 steps | loss 5.91701 | ppl  371.299\n",
            "| epoch   1 |  3000/ 3125 steps | loss 5.83891 | ppl  343.405\n",
            "| epoch   2 |   500/ 3125 steps | loss 5.52308 | ppl  250.404\n",
            "| epoch   2 |  1000/ 3125 steps | loss 5.47035 | ppl  237.543\n",
            "| epoch   2 |  1500/ 3125 steps | loss 5.45543 | ppl  234.027\n",
            "| epoch   2 |  2000/ 3125 steps | loss 5.41283 | ppl  224.265\n",
            "| epoch   2 |  2500/ 3125 steps | loss 5.38774 | ppl  218.708\n",
            "| epoch   2 |  3000/ 3125 steps | loss 5.32871 | ppl  206.173\n"
          ]
        }
      ]
    },
    {
      "cell_type": "markdown",
      "metadata": {
        "id": "MeOM1dOvkO4e"
      },
      "source": [
        "## 6. Text Generation\n",
        "Being trained on a language modeling objective, our model can be used in the inference mode to generate/complete sentences. However, the pretraining phase takes a lot of time compared to the fine-tuning. For example, <a href=\"https://arxiv.org/pdf/1911.03894.pdf\">CamemBERT</a><sub>base</sub> <sup>[1]</sup> was pretrained for 24 hours on 256 Nvidia V100 GPUs and <a href=\"https://arxiv.org/pdf/2010.12321.pdf\">BARThez</a> <sup>[2]</sup> was pretrained for 60h on 128 Nvidia V100 GPUs!<br>\n",
        "\n",
        "Of course, we don't have enough time and resources to efficiently pretrain our model, so instead we will load the weights from a checkpoint that has been pre-trained for 12 hours on 1 GPU.<br>\n",
        "\n",
        "Take a look here: <a href=\"https://pytorch.org/tutorials/beginner/saving_loading_models.html#saving-loading-a-general-checkpoint-for-inference-and-or-resuming-training\">https://pytorch.org/tutorials/beginner/saving_loading_models.html#saving-loading-a-general-checkpoint-for-inference-and-or-resuming-training</a><br>\n",
        "\n",
        "<b><h4><font color='blue'>\n",
        "<hr style=\"border:10px solid blue\"> </hr>\n",
        "Task 5: </b><br>\n",
        "Implement the function <code>infer_next_tokens()</code> that takes as input a string <code>sent</code> and an integer <code>max_len</code> and returns a completion of the input sentence. The generation should stop when the model generates <code>&lt;eos&gt;</code> or the length of the generated sentence reaches <code>max_len</code>\n",
        "<hr style=\"border:10px solid blue\"> </hr>\n",
        "</font></h4>\n"
      ]
    },
    {
      "cell_type": "code",
      "metadata": {
        "id": "-BcBC6FSkMH3",
        "outputId": "942807ce-c872-43d6-a302-74ac4404ec4e",
        "colab": {
          "base_uri": "https://localhost:8080/"
        }
      },
      "source": [
        "!wget https://raw.githubusercontent.com/moussaKam/transfer_learning_transformers/main/pretrained_model_4layers.pt\n",
        "\n",
        "model = Model(ntokens, nhead, nhid, nlayers, ntokens).to(device)\n",
        "\n",
        "#load the checkpoint\n",
        "checkpoint = torch.load('pretrained_model_4layers.pt')\n",
        "#load state dict\n",
        "model.load_state_dict(checkpoint['model_state_dict'])"
      ],
      "execution_count": 37,
      "outputs": [
        {
          "output_type": "stream",
          "name": "stdout",
          "text": [
            "--2025-02-11 09:46:10--  https://raw.githubusercontent.com/moussaKam/transfer_learning_transformers/main/pretrained_model_4layers.pt\n",
            "Resolving raw.githubusercontent.com (raw.githubusercontent.com)... 185.199.108.133, 185.199.109.133, 185.199.110.133, ...\n",
            "Connecting to raw.githubusercontent.com (raw.githubusercontent.com)|185.199.108.133|:443... connected.\n",
            "HTTP request sent, awaiting response... 200 OK\n",
            "Length: 88093955 (84M) [application/octet-stream]\n",
            "Saving to: ‘pretrained_model_4layers.pt.1’\n",
            "\n",
            "pretrained_model_4l 100%[===================>]  84.01M   377MB/s    in 0.2s    \n",
            "\n",
            "2025-02-11 09:46:11 (377 MB/s) - ‘pretrained_model_4layers.pt.1’ saved [88093955/88093955]\n",
            "\n"
          ]
        },
        {
          "output_type": "stream",
          "name": "stderr",
          "text": [
            "<ipython-input-37-76a40ce8b80e>:6: FutureWarning: You are using `torch.load` with `weights_only=False` (the current default value), which uses the default pickle module implicitly. It is possible to construct malicious pickle data which will execute arbitrary code during unpickling (See https://github.com/pytorch/pytorch/blob/main/SECURITY.md#untrusted-models for more details). In a future release, the default value for `weights_only` will be flipped to `True`. This limits the functions that could be executed during unpickling. Arbitrary objects will no longer be allowed to be loaded via this mode unless they are explicitly allowlisted by the user via `torch.serialization.add_safe_globals`. We recommend you start setting `weights_only=True` for any use case where you don't have full control of the loaded file. Please open an issue on GitHub for any issues related to this experimental feature.\n",
            "  checkpoint = torch.load('pretrained_model_4layers.pt')\n"
          ]
        },
        {
          "output_type": "execute_result",
          "data": {
            "text/plain": [
              "<All keys matched successfully>"
            ]
          },
          "metadata": {},
          "execution_count": 37
        }
      ]
    },
    {
      "cell_type": "code",
      "metadata": {
        "id": "tBRRVsWqlIoQ",
        "colab": {
          "base_uri": "https://localhost:8080/"
        },
        "outputId": "1b3da5d9-b490-4524-898f-4f9dd138c41f"
      },
      "source": [
        "!pip install sentencepiece\n",
        "!wget https://raw.githubusercontent.com/moussaKam/transfer_learning_transformers/main/sentencepiece.french.model\n",
        "\n",
        "import sentencepiece as spm\n",
        "\n",
        "s = spm.SentencePieceProcessor(model_file='sentencepiece.french.model') #load sentencepiece model\n",
        "\n",
        "#examples\n",
        "encoded = s.encode_as_pieces(\"Bonjour les amis!\")\n",
        "decoded = s.decode_pieces(encoded)\n",
        "print(encoded)\n",
        "print(decoded)"
      ],
      "execution_count": 38,
      "outputs": [
        {
          "output_type": "stream",
          "name": "stdout",
          "text": [
            "Requirement already satisfied: sentencepiece in /usr/local/lib/python3.11/dist-packages (0.2.0)\n",
            "--2025-02-11 09:46:14--  https://raw.githubusercontent.com/moussaKam/transfer_learning_transformers/main/sentencepiece.french.model\n",
            "Resolving raw.githubusercontent.com (raw.githubusercontent.com)... 185.199.108.133, 185.199.109.133, 185.199.110.133, ...\n",
            "Connecting to raw.githubusercontent.com (raw.githubusercontent.com)|185.199.108.133|:443... connected.\n",
            "HTTP request sent, awaiting response... 200 OK\n",
            "Length: 1115362 (1.1M) [application/octet-stream]\n",
            "Saving to: ‘sentencepiece.french.model.1’\n",
            "\n",
            "sentencepiece.frenc 100%[===================>]   1.06M  --.-KB/s    in 0.01s   \n",
            "\n",
            "2025-02-11 09:46:14 (110 MB/s) - ‘sentencepiece.french.model.1’ saved [1115362/1115362]\n",
            "\n",
            "['▁Bonjour', '▁les', '▁amis', '!']\n",
            "Bonjour les amis!\n"
          ]
        }
      ]
    },
    {
      "cell_type": "code",
      "source": [
        "encoded = s.encode_as_pieces(\"Coucou tout le monde\")\n",
        "decoded = s.decode_pieces(encoded)\n",
        "print(encoded)\n",
        "print(decoded)"
      ],
      "metadata": {
        "colab": {
          "base_uri": "https://localhost:8080/"
        },
        "id": "V5iqDT80v9Gx",
        "outputId": "f8e64518-decf-420c-aeae-ff8c86731df1"
      },
      "execution_count": 39,
      "outputs": [
        {
          "output_type": "stream",
          "name": "stdout",
          "text": [
            "['▁C', 'oucou', '▁tout', '▁le', '▁monde']\n",
            "Coucou tout le monde\n"
          ]
        }
      ]
    },
    {
      "cell_type": "code",
      "metadata": {
        "id": "TtLlV05pkQI3"
      },
      "source": [
        "def infer_next_token(sent: str) -> tuple[torch.Tensor, torch.Tensor]:\n",
        "    \"\"\"\n",
        "    Generate the next token for a given input sentence using the model.\n",
        "\n",
        "    This function encodes the input sentence via SentencePiece, prepends a <sos> token,\n",
        "    and passes the resulting sequence through the model to obtain output logits. It then\n",
        "    selects the predicted token index from the logits corresponding to the last time step.\n",
        "\n",
        "    Args:\n",
        "        sent (str): The input sentence.\n",
        "\n",
        "    Returns:\n",
        "        tuple[torch.Tensor, torch.Tensor]: A tuple containing:\n",
        "            - next_token_ind: The predicted token index (as a torch.Tensor).\n",
        "            - out: The full output tensor from the model.\n",
        "    \"\"\"\n",
        "    model.eval()\n",
        "    sent_pieces = s.encode_as_pieces(sent)\n",
        "    source = [token2ind['<sos>']] + [token2ind[el] for el in sent_pieces]\n",
        "    source = torch.tensor(source).to(device)\n",
        "    source = source.reshape(-1, 1)\n",
        "    src_mask = model.base.generate_square_subsequent_mask(source.size(0)).to(device)\n",
        "    out = model(source, src_mask)\n",
        "    next_token_ind = out[-1].argmax(-1)\n",
        "    return next_token_ind, out\n",
        "\n",
        "def infer_next_tokens(sent: str, max_len: int = 50) -> str:\n",
        "    \"\"\"\n",
        "    Generate a sequence of tokens (text) by iteratively predicting the next token using the model.\n",
        "\n",
        "    This function encodes the input sentence, then repeatedly predicts the next token until\n",
        "    the maximum length is reached or an <eos> token is generated. The generated token indices\n",
        "    are converted back into text using SentencePiece.\n",
        "\n",
        "    Args:\n",
        "        sent (str): The initial input sentence.\n",
        "        max_len (int, optional): The maximum length of the generated sequence (including the initial tokens).\n",
        "                                 Defaults to 50.\n",
        "\n",
        "    Returns:\n",
        "        str: The generated text, with the initial <sos> token removed and truncated at <eos> if present.\n",
        "    \"\"\"\n",
        "\n",
        "    model.eval()\n",
        "    sent_pieces = s.encode_as_pieces(sent)\n",
        "    # Use get() to default to <oov> if the piece is not in token2ind.\n",
        "    source_tokens = [token2ind['<sos>']] + [token2ind.get(piece, token2ind['<oov>']) for piece in sent_pieces]\n",
        "\n",
        "    # Convert to tensor and reshape to [sequence_length, batch_size]\n",
        "    source = torch.tensor(source_tokens, dtype=torch.long, device=device).unsqueeze(1)\n",
        "\n",
        "    generated = source_tokens[:]\n",
        "\n",
        "    while len(generated) < max_len:\n",
        "\n",
        "        src_mask = model.base.generate_square_subsequent_mask(source.size(0)).to(device)\n",
        "        out = model(source, src_mask)\n",
        "\n",
        "        next_token_ind = out[-1].argmax(dim=-1).item()\n",
        "        generated.append(next_token_ind)\n",
        "        # If the generated token is <eos>, stop.\n",
        "        if next_token_ind == token2ind['<eos>']:\n",
        "            break\n",
        "        # Append the new token to the source tensor so that the model can condition on it in the next step.\n",
        "        next_token_tensor = torch.tensor([[next_token_ind]], dtype=torch.long, device=device)\n",
        "        source = torch.cat((source, next_token_tensor), dim=0)\n",
        "\n",
        "    # Remove the starting <sos> token.\n",
        "    generated = generated[1:]\n",
        "\n",
        "    if token2ind['<eos>'] in generated:\n",
        "        eos_index = generated.index(token2ind['<eos>'])\n",
        "        generated = generated[:eos_index]\n",
        "\n",
        "\n",
        "    generated_tokens = [ind2token[idx] for idx in generated]\n",
        "    # Use SentencePiece to decode the list of pieces back into a string.\n",
        "    generated_sentence = s.decode_pieces(generated_tokens)\n",
        "    return generated_sentence"
      ],
      "execution_count": 40,
      "outputs": []
    },
    {
      "cell_type": "code",
      "metadata": {
        "id": "f83Nn5nSly4v",
        "outputId": "fe18724e-a3a7-475a-ba49-e7486ec92b53",
        "colab": {
          "base_uri": "https://localhost:8080/",
          "height": 36
        }
      },
      "source": [
        "sent = \"Bonjour les\"\n",
        "infer_next_tokens(sent)"
      ],
      "execution_count": 41,
      "outputs": [
        {
          "output_type": "execute_result",
          "data": {
            "text/plain": [
              "'Bonjour les gens qui ont été très accueillants et sympathiques.'"
            ],
            "application/vnd.google.colaboratory.intrinsic+json": {
              "type": "string"
            }
          },
          "metadata": {},
          "execution_count": 41
        }
      ]
    },
    {
      "cell_type": "markdown",
      "metadata": {
        "id": "Lp7mjVzomoZ3"
      },
      "source": [
        "## 7. Supervised task\n",
        "It's time to train the model on the supervised task, which is in our case sentiment analysis. It consists of predicting whether a book review is a positive or a negative review. The model will be trained in 2 settings.<br>\n",
        "<ul>\n",
        "    <li>Training from scratch: All model parameters are randomly initialized.</li>\n",
        "    <li>Transfer learning: Only the classification head is trained from scratch, all other parameters are copied from the pre-trained model.</li>\n",
        "</ul>\n",
        "\n",
        "The training function is already implemented. However, to evaluate the model at each epoch we have to implement a function that computes the accuracy of the model on the validation set.<br>\n",
        "\n"
      ]
    },
    {
      "cell_type": "code",
      "metadata": {
        "id": "0K1BZsblmEmx",
        "outputId": "8aeb825b-a335-4228-91a2-d077e2f60e62",
        "colab": {
          "base_uri": "https://localhost:8080/"
        }
      },
      "source": [
        "!wget https://raw.githubusercontent.com/moussaKam/transfer_learning_transformers/main/cls-books/train.review.spm\n",
        "!wget https://raw.githubusercontent.com/moussaKam/transfer_learning_transformers/main/cls-books/train.label\n",
        "!wget https://raw.githubusercontent.com/moussaKam/transfer_learning_transformers/main/cls-books/test.review.spm\n",
        "!wget https://raw.githubusercontent.com/moussaKam/transfer_learning_transformers/main/cls-books/test.label\n",
        "\n",
        "path_data_train = \"train.review.spm\"\n",
        "path_labels_train = \"train.label\"\n",
        "\n",
        "path_data_valid = \"test.review.spm\"\n",
        "path_labels_valid = \"test.label\""
      ],
      "execution_count": 42,
      "outputs": [
        {
          "output_type": "stream",
          "name": "stdout",
          "text": [
            "--2025-02-11 09:46:14--  https://raw.githubusercontent.com/moussaKam/transfer_learning_transformers/main/cls-books/train.review.spm\n",
            "Resolving raw.githubusercontent.com (raw.githubusercontent.com)... 185.199.108.133, 185.199.109.133, 185.199.110.133, ...\n",
            "Connecting to raw.githubusercontent.com (raw.githubusercontent.com)|185.199.108.133|:443... connected.\n",
            "HTTP request sent, awaiting response... 200 OK\n",
            "Length: 1495960 (1.4M) [text/plain]\n",
            "Saving to: ‘train.review.spm.1’\n",
            "\n",
            "train.review.spm.1  100%[===================>]   1.43M  --.-KB/s    in 0.007s  \n",
            "\n",
            "2025-02-11 09:46:14 (214 MB/s) - ‘train.review.spm.1’ saved [1495960/1495960]\n",
            "\n",
            "--2025-02-11 09:46:14--  https://raw.githubusercontent.com/moussaKam/transfer_learning_transformers/main/cls-books/train.label\n",
            "Resolving raw.githubusercontent.com (raw.githubusercontent.com)... 185.199.108.133, 185.199.109.133, 185.199.110.133, ...\n",
            "Connecting to raw.githubusercontent.com (raw.githubusercontent.com)|185.199.108.133|:443... connected.\n",
            "HTTP request sent, awaiting response... 200 OK\n",
            "Length: 3200 (3.1K) [text/plain]\n",
            "Saving to: ‘train.label.1’\n",
            "\n",
            "train.label.1       100%[===================>]   3.12K  --.-KB/s    in 0s      \n",
            "\n",
            "2025-02-11 09:46:15 (59.9 MB/s) - ‘train.label.1’ saved [3200/3200]\n",
            "\n",
            "--2025-02-11 09:46:15--  https://raw.githubusercontent.com/moussaKam/transfer_learning_transformers/main/cls-books/test.review.spm\n",
            "Resolving raw.githubusercontent.com (raw.githubusercontent.com)... 185.199.108.133, 185.199.109.133, 185.199.110.133, ...\n",
            "Connecting to raw.githubusercontent.com (raw.githubusercontent.com)|185.199.108.133|:443... connected.\n",
            "HTTP request sent, awaiting response... 200 OK\n",
            "Length: 1864544 (1.8M) [text/plain]\n",
            "Saving to: ‘test.review.spm.1’\n",
            "\n",
            "test.review.spm.1   100%[===================>]   1.78M  --.-KB/s    in 0.01s   \n",
            "\n",
            "2025-02-11 09:46:15 (124 MB/s) - ‘test.review.spm.1’ saved [1864544/1864544]\n",
            "\n",
            "--2025-02-11 09:46:15--  https://raw.githubusercontent.com/moussaKam/transfer_learning_transformers/main/cls-books/test.label\n",
            "Resolving raw.githubusercontent.com (raw.githubusercontent.com)... 185.199.109.133, 185.199.108.133, 185.199.111.133, ...\n",
            "Connecting to raw.githubusercontent.com (raw.githubusercontent.com)|185.199.109.133|:443... connected.\n",
            "HTTP request sent, awaiting response... 200 OK\n",
            "Length: 4000 (3.9K) [text/plain]\n",
            "Saving to: ‘test.label.1’\n",
            "\n",
            "test.label.1        100%[===================>]   3.91K  --.-KB/s    in 0s      \n",
            "\n",
            "2025-02-11 09:46:15 (20.3 MB/s) - ‘test.label.1’ saved [4000/4000]\n",
            "\n"
          ]
        }
      ]
    },
    {
      "cell_type": "markdown",
      "source": [
        "<b><h4><font color='blue'>\n",
        "<hr style=\"border:10px solid blue\"> </hr>\n",
        "Task 6: </b><br>\n",
        "Implement the <code>accuracy()</code> function. This function takes as input a <code>data_loader</code> and returns an float.<br>\n",
        "<hr style=\"border:10px solid blue\"> </hr>\n",
        "</font></h4>"
      ],
      "metadata": {
        "id": "vKMRmZD9abvd"
      }
    },
    {
      "cell_type": "code",
      "metadata": {
        "id": "_MLfvjiom2SL"
      },
      "source": [
        "# a function to evaluate the validation accuracy of the model.\n",
        "def evaluate_accuracy(data_loader: DataLoader) -> float:\n",
        "    \"\"\"\n",
        "    Compute the validation accuracy of the model.\n",
        "\n",
        "    Args:\n",
        "        data_loader (DataLoader): DataLoader yielding (src, target) batches.\n",
        "\n",
        "    Returns:\n",
        "        float: The accuracy as a fraction.\n",
        "    \"\"\"\n",
        "    #to be implemented\n",
        "    model.eval()  # set model to evaluation mode\n",
        "    running_correct = 0\n",
        "    running_total = 0\n",
        "    with torch.inference_mode():\n",
        "        for src, target in data_loader:\n",
        "            src, target = src.to(device), target.to(device)\n",
        "            src_mask = model.base.generate_square_subsequent_mask(src.size(0)).to(device)\n",
        "            logits = model(src, src_mask)\n",
        "            logits = logits[-1]\n",
        "            predictions = logits.argmax(dim=-1)\n",
        "            running_total += target.size(0)\n",
        "            running_correct += (predictions == target).sum().item()\n",
        "\n",
        "    return running_correct / running_total"
      ],
      "execution_count": 43,
      "outputs": []
    },
    {
      "cell_type": "code",
      "metadata": {
        "id": "qzmx7T7xoa6v"
      },
      "source": [
        "#save the base model to be loaded later in the fine-tuning phase\n",
        "torch.save({\"model_state_dict\": model.base.state_dict(),}, \"pretrained_model_4layers_no_class_head.pt\")"
      ],
      "execution_count": 44,
      "outputs": []
    },
    {
      "cell_type": "code",
      "metadata": {
        "id": "i-xclMCpnVpw",
        "outputId": "687230e2-0111-4ac2-b00c-40995358aff9",
        "colab": {
          "base_uri": "https://localhost:8080/"
        }
      },
      "source": [
        "from_scratch_settings = [True, False]\n",
        "\n",
        "from_scratch_valid_acc = []\n",
        "pretrained_valid_acc = []\n",
        "lr = 0.0001\n",
        "\n",
        "for from_scratch in from_scratch_settings:\n",
        "    model = Model(ntokens, nhead, nhid, nlayers, 2, dropout).to(device)\n",
        "    criterion = nn.CrossEntropyLoss()\n",
        "    optimizer = torch.optim.Adam(model.parameters(), lr=lr)\n",
        "    if not from_scratch:\n",
        "        print(\"=====PRETRAINED MODEL======\")\n",
        "        #load checkpoint\n",
        "        checkpoint = torch.load(\"pretrained_model_4layers_no_class_head.pt\")\n",
        "        #load state dict\n",
        "        model.base.load_state_dict(checkpoint['model_state_dict'])\n",
        "    else:\n",
        "        print(\"=====Trainig FROM SCRATCH======\")\n",
        "    epochs = 20\n",
        "    for epoch in range(1, epochs + 1):\n",
        "        train(\n",
        "            path_data_train,\n",
        "            path_labels_train,\n",
        "            save_interval=-1,\n",
        "            task='classification',\n",
        "            batch_size=8,\n",
        "            log_interval=50,\n",
        "        )\n",
        "        acc = evaluate_accuracy(\n",
        "            get_loader(\n",
        "                path_data_valid,\n",
        "                path_labels_valid,\n",
        "                token2ind=token2ind,\n",
        "                batch_size=20,\n",
        "                task='classification',\n",
        "            )\n",
        "        )\n",
        "        if from_scratch:\n",
        "            from_scratch_valid_acc.append(acc)\n",
        "        else:\n",
        "            pretrained_valid_acc.append(acc)\n",
        "    print()"
      ],
      "execution_count": 45,
      "outputs": [
        {
          "output_type": "stream",
          "name": "stdout",
          "text": [
            "=====Trainig FROM SCRATCH======\n",
            "| epoch   1 |    50/  200 steps | loss 0.78812 | ppl    2.199\n",
            "| epoch   1 |   100/  200 steps | loss 0.71347 | ppl    2.041\n",
            "| epoch   1 |   150/  200 steps | loss 0.70207 | ppl    2.018\n",
            "| epoch   2 |    50/  200 steps | loss 0.64365 | ppl    1.903\n",
            "| epoch   2 |   100/  200 steps | loss 0.61148 | ppl    1.843\n",
            "| epoch   2 |   150/  200 steps | loss 0.54338 | ppl    1.722\n",
            "| epoch   3 |    50/  200 steps | loss 0.30924 | ppl    1.362\n",
            "| epoch   3 |   100/  200 steps | loss 0.39342 | ppl    1.482\n",
            "| epoch   3 |   150/  200 steps | loss 0.31671 | ppl    1.373\n",
            "| epoch   4 |    50/  200 steps | loss 0.07770 | ppl    1.081\n",
            "| epoch   4 |   100/  200 steps | loss 0.17770 | ppl    1.194\n",
            "| epoch   4 |   150/  200 steps | loss 0.15335 | ppl    1.166\n",
            "| epoch   5 |    50/  200 steps | loss 0.02882 | ppl    1.029\n",
            "| epoch   5 |   100/  200 steps | loss 0.03972 | ppl    1.041\n",
            "| epoch   5 |   150/  200 steps | loss 0.02847 | ppl    1.029\n",
            "| epoch   6 |    50/  200 steps | loss 0.00027 | ppl    1.000\n",
            "| epoch   6 |   100/  200 steps | loss 0.00294 | ppl    1.003\n",
            "| epoch   6 |   150/  200 steps | loss 0.01722 | ppl    1.017\n",
            "| epoch   7 |    50/  200 steps | loss 0.00001 | ppl    1.000\n",
            "| epoch   7 |   100/  200 steps | loss 0.00001 | ppl    1.000\n",
            "| epoch   7 |   150/  200 steps | loss 0.00001 | ppl    1.000\n",
            "| epoch   8 |    50/  200 steps | loss 0.00001 | ppl    1.000\n",
            "| epoch   8 |   100/  200 steps | loss 0.00003 | ppl    1.000\n",
            "| epoch   8 |   150/  200 steps | loss 0.00012 | ppl    1.000\n",
            "| epoch   9 |    50/  200 steps | loss 0.00002 | ppl    1.000\n",
            "| epoch   9 |   100/  200 steps | loss 0.00001 | ppl    1.000\n",
            "| epoch   9 |   150/  200 steps | loss 0.00001 | ppl    1.000\n",
            "| epoch  10 |    50/  200 steps | loss 0.00909 | ppl    1.009\n",
            "| epoch  10 |   100/  200 steps | loss 0.00084 | ppl    1.001\n",
            "| epoch  10 |   150/  200 steps | loss 0.00001 | ppl    1.000\n",
            "| epoch  11 |    50/  200 steps | loss 0.00000 | ppl    1.000\n",
            "| epoch  11 |   100/  200 steps | loss 0.00000 | ppl    1.000\n",
            "| epoch  11 |   150/  200 steps | loss 0.00000 | ppl    1.000\n",
            "| epoch  12 |    50/  200 steps | loss 0.00000 | ppl    1.000\n",
            "| epoch  12 |   100/  200 steps | loss 0.00000 | ppl    1.000\n",
            "| epoch  12 |   150/  200 steps | loss 0.00000 | ppl    1.000\n",
            "| epoch  13 |    50/  200 steps | loss 0.00000 | ppl    1.000\n",
            "| epoch  13 |   100/  200 steps | loss 0.00000 | ppl    1.000\n",
            "| epoch  13 |   150/  200 steps | loss 0.00000 | ppl    1.000\n",
            "| epoch  14 |    50/  200 steps | loss 0.00000 | ppl    1.000\n",
            "| epoch  14 |   100/  200 steps | loss 0.00000 | ppl    1.000\n",
            "| epoch  14 |   150/  200 steps | loss 0.00000 | ppl    1.000\n",
            "| epoch  15 |    50/  200 steps | loss 0.00000 | ppl    1.000\n",
            "| epoch  15 |   100/  200 steps | loss 0.00000 | ppl    1.000\n",
            "| epoch  15 |   150/  200 steps | loss 0.00000 | ppl    1.000\n",
            "| epoch  16 |    50/  200 steps | loss 0.00000 | ppl    1.000\n",
            "| epoch  16 |   100/  200 steps | loss 0.00000 | ppl    1.000\n",
            "| epoch  16 |   150/  200 steps | loss 0.00000 | ppl    1.000\n",
            "| epoch  17 |    50/  200 steps | loss 0.00000 | ppl    1.000\n",
            "| epoch  17 |   100/  200 steps | loss 0.00000 | ppl    1.000\n",
            "| epoch  17 |   150/  200 steps | loss 0.00000 | ppl    1.000\n",
            "| epoch  18 |    50/  200 steps | loss 0.00000 | ppl    1.000\n",
            "| epoch  18 |   100/  200 steps | loss 0.00000 | ppl    1.000\n",
            "| epoch  18 |   150/  200 steps | loss 0.00000 | ppl    1.000\n",
            "| epoch  19 |    50/  200 steps | loss 0.00000 | ppl    1.000\n",
            "| epoch  19 |   100/  200 steps | loss 0.00000 | ppl    1.000\n",
            "| epoch  19 |   150/  200 steps | loss 0.00000 | ppl    1.000\n",
            "| epoch  20 |    50/  200 steps | loss 0.00000 | ppl    1.000\n",
            "| epoch  20 |   100/  200 steps | loss 0.00000 | ppl    1.000\n",
            "| epoch  20 |   150/  200 steps | loss 0.00000 | ppl    1.000\n",
            "\n",
            "=====PRETRAINED MODEL======\n"
          ]
        },
        {
          "output_type": "stream",
          "name": "stderr",
          "text": [
            "<ipython-input-45-4aa28422da9e>:14: FutureWarning: You are using `torch.load` with `weights_only=False` (the current default value), which uses the default pickle module implicitly. It is possible to construct malicious pickle data which will execute arbitrary code during unpickling (See https://github.com/pytorch/pytorch/blob/main/SECURITY.md#untrusted-models for more details). In a future release, the default value for `weights_only` will be flipped to `True`. This limits the functions that could be executed during unpickling. Arbitrary objects will no longer be allowed to be loaded via this mode unless they are explicitly allowlisted by the user via `torch.serialization.add_safe_globals`. We recommend you start setting `weights_only=True` for any use case where you don't have full control of the loaded file. Please open an issue on GitHub for any issues related to this experimental feature.\n",
            "  checkpoint = torch.load(\"pretrained_model_4layers_no_class_head.pt\")\n"
          ]
        },
        {
          "output_type": "stream",
          "name": "stdout",
          "text": [
            "| epoch   1 |    50/  200 steps | loss 0.81386 | ppl    2.257\n",
            "| epoch   1 |   100/  200 steps | loss 0.68024 | ppl    1.974\n",
            "| epoch   1 |   150/  200 steps | loss 0.57954 | ppl    1.785\n",
            "| epoch   2 |    50/  200 steps | loss 0.45448 | ppl    1.575\n",
            "| epoch   2 |   100/  200 steps | loss 0.50390 | ppl    1.655\n",
            "| epoch   2 |   150/  200 steps | loss 0.50461 | ppl    1.656\n",
            "| epoch   3 |    50/  200 steps | loss 0.40920 | ppl    1.506\n",
            "| epoch   3 |   100/  200 steps | loss 0.39354 | ppl    1.482\n",
            "| epoch   3 |   150/  200 steps | loss 0.41608 | ppl    1.516\n",
            "| epoch   4 |    50/  200 steps | loss 0.31283 | ppl    1.367\n",
            "| epoch   4 |   100/  200 steps | loss 0.26256 | ppl    1.300\n",
            "| epoch   4 |   150/  200 steps | loss 0.36013 | ppl    1.434\n",
            "| epoch   5 |    50/  200 steps | loss 0.18958 | ppl    1.209\n",
            "| epoch   5 |   100/  200 steps | loss 0.19260 | ppl    1.212\n",
            "| epoch   5 |   150/  200 steps | loss 0.17842 | ppl    1.195\n",
            "| epoch   6 |    50/  200 steps | loss 0.07593 | ppl    1.079\n",
            "| epoch   6 |   100/  200 steps | loss 0.08240 | ppl    1.086\n",
            "| epoch   6 |   150/  200 steps | loss 0.25667 | ppl    1.293\n",
            "| epoch   7 |    50/  200 steps | loss 0.04439 | ppl    1.045\n",
            "| epoch   7 |   100/  200 steps | loss 0.07411 | ppl    1.077\n",
            "| epoch   7 |   150/  200 steps | loss 0.07923 | ppl    1.082\n",
            "| epoch   8 |    50/  200 steps | loss 0.01064 | ppl    1.011\n",
            "| epoch   8 |   100/  200 steps | loss 0.01184 | ppl    1.012\n",
            "| epoch   8 |   150/  200 steps | loss 0.05964 | ppl    1.061\n",
            "| epoch   9 |    50/  200 steps | loss 0.00632 | ppl    1.006\n",
            "| epoch   9 |   100/  200 steps | loss 0.00101 | ppl    1.001\n",
            "| epoch   9 |   150/  200 steps | loss 0.00032 | ppl    1.000\n",
            "| epoch  10 |    50/  200 steps | loss 0.00015 | ppl    1.000\n",
            "| epoch  10 |   100/  200 steps | loss 0.00002 | ppl    1.000\n",
            "| epoch  10 |   150/  200 steps | loss 0.00004 | ppl    1.000\n",
            "| epoch  11 |    50/  200 steps | loss 0.00119 | ppl    1.001\n",
            "| epoch  11 |   100/  200 steps | loss 0.02396 | ppl    1.024\n",
            "| epoch  11 |   150/  200 steps | loss 0.00003 | ppl    1.000\n",
            "| epoch  12 |    50/  200 steps | loss 0.00001 | ppl    1.000\n",
            "| epoch  12 |   100/  200 steps | loss 0.00202 | ppl    1.002\n",
            "| epoch  12 |   150/  200 steps | loss 0.00367 | ppl    1.004\n",
            "| epoch  13 |    50/  200 steps | loss 0.00008 | ppl    1.000\n",
            "| epoch  13 |   100/  200 steps | loss 0.00010 | ppl    1.000\n",
            "| epoch  13 |   150/  200 steps | loss 0.00001 | ppl    1.000\n",
            "| epoch  14 |    50/  200 steps | loss 0.00063 | ppl    1.001\n",
            "| epoch  14 |   100/  200 steps | loss 0.00000 | ppl    1.000\n",
            "| epoch  14 |   150/  200 steps | loss 0.00062 | ppl    1.001\n",
            "| epoch  15 |    50/  200 steps | loss 0.00004 | ppl    1.000\n",
            "| epoch  15 |   100/  200 steps | loss 0.00070 | ppl    1.001\n",
            "| epoch  15 |   150/  200 steps | loss 0.00000 | ppl    1.000\n",
            "| epoch  16 |    50/  200 steps | loss 0.00001 | ppl    1.000\n",
            "| epoch  16 |   100/  200 steps | loss 0.00010 | ppl    1.000\n",
            "| epoch  16 |   150/  200 steps | loss 0.00011 | ppl    1.000\n",
            "| epoch  17 |    50/  200 steps | loss 0.00043 | ppl    1.000\n",
            "| epoch  17 |   100/  200 steps | loss 0.00002 | ppl    1.000\n",
            "| epoch  17 |   150/  200 steps | loss 0.01464 | ppl    1.015\n",
            "| epoch  18 |    50/  200 steps | loss 0.00009 | ppl    1.000\n",
            "| epoch  18 |   100/  200 steps | loss 0.00000 | ppl    1.000\n",
            "| epoch  18 |   150/  200 steps | loss 0.01159 | ppl    1.012\n",
            "| epoch  19 |    50/  200 steps | loss 0.00032 | ppl    1.000\n",
            "| epoch  19 |   100/  200 steps | loss 0.01745 | ppl    1.018\n",
            "| epoch  19 |   150/  200 steps | loss 0.02830 | ppl    1.029\n",
            "| epoch  20 |    50/  200 steps | loss 0.04674 | ppl    1.048\n",
            "| epoch  20 |   100/  200 steps | loss 0.08680 | ppl    1.091\n",
            "| epoch  20 |   150/  200 steps | loss 0.05013 | ppl    1.051\n",
            "\n"
          ]
        }
      ]
    },
    {
      "cell_type": "markdown",
      "source": [
        "<b><h4><font color='blue'>\n",
        "<hr style=\"border:10px solid blue\"> </hr>\n",
        "Task 7: </b><br>\n",
        "Visualize the evolution of the accuracy of the model in function of the epoch in both settings.\n",
        "<hr style=\"border:10px solid blue\"> </hr>\n",
        "</font></h4>"
      ],
      "metadata": {
        "id": "KNyMCGV-a269"
      }
    },
    {
      "cell_type": "code",
      "metadata": {
        "id": "RCpBIdTHojm6",
        "outputId": "43f61a6d-e477-4d88-e3e6-19c41878f1a5",
        "colab": {
          "base_uri": "https://localhost:8080/",
          "height": 564
        }
      },
      "source": [
        "# Create a list of epoch numbers. For example, if you ran 15 epochs:\n",
        "epochs = range(1, len(from_scratch_valid_acc) + 1)\n",
        "\n",
        "plt.figure(figsize=(8, 6))\n",
        "plt.plot(epochs, from_scratch_valid_acc, marker='o', label='Training from Scratch')\n",
        "plt.plot(epochs, pretrained_valid_acc, marker='s', label='Transfer Learning')\n",
        "plt.xlabel(\"Epoch\")\n",
        "plt.ylabel(\"Validation Accuracy\")\n",
        "plt.title(\" Accuracy Evolution Over Epochs\")\n",
        "plt.legend()\n",
        "plt.grid(True)\n",
        "plt.show()"
      ],
      "execution_count": 46,
      "outputs": [
        {
          "output_type": "display_data",
          "data": {
            "text/plain": [
              "<Figure size 800x600 with 1 Axes>"
            ],
            "image/png": "[encoded data removed]"
          },
          "metadata": {}
        }
      ]
    },
    {
      "cell_type": "markdown",
      "source": [
        "<b><h4><font color='red'>\n",
        "<hr style=\"border:10px solid red\"> </hr>\n",
        "Question 4 (4 points): </b><br>\n",
        "Interpret the results.\n",
        "<hr style=\"border:10px solid red\"> </hr>\n",
        "</font></h4>\n"
      ],
      "metadata": {
        "id": "L10PpUpxa86n"
      }
    },
    {
      "cell_type": "markdown",
      "source": [
        "<b><h4><font color='green'>\n",
        "<hr style=\"border:10px solid green\"> </hr>\n",
        "Answer 4: </b><br>\n",
        "\n",
        "The graph shows that the transfer learning curve is always higher than the training-from-scratch curve. This means that a model starting with pre-trained weights gets higher accuracy at every epoch compared to one that starts with random weights.\n",
        "\n",
        "In other words, the pre-trained model already contains useful feature representations that allow it to learn the classification task more quickly and effectively, resulting in faster convergence and better overall performance than starting with random weights.\n",
        "<hr style=\"border:10px solid green\"> </hr>\n",
        "</font></h4>\n"
      ],
      "metadata": {
        "id": "I7n4omIlbDhB"
      }
    },
    {
      "cell_type": "markdown",
      "source": [
        "<b><h4><font color='red'>\n",
        "<hr style=\"border:10px solid red\"> </hr>\n",
        "Question 5 (4 points): </b><br>\n",
        "What is one of the limitations of the language modeling objective used in this notebook, compared to the masked language model objective introduced in <a href=\"https://arxiv.org/abs/1810.04805\" target=\"_blank\">Devlin, J., Chang, M. W., Lee, K., & Toutanova, K. (2018). Bert: Pre-training of deep bidirectional transformers for language understanding. arXiv preprint arXiv:1810.04805.</a><br>\n",
        "<hr style=\"border:10px solid red\"> </hr>\n",
        "</font></h4>\n"
      ],
      "metadata": {
        "id": "QTIlxIVBbDrm"
      }
    },
    {
      "cell_type": "markdown",
      "source": [
        "<b><h4><font color='green'>\n",
        "<hr style=\"border:10px solid green\"> </hr>\n",
        "Answer 5: </b><br>\n",
        "\n",
        "One limitation of the autoregressive language modeling objective used here is that it is unidirectional and suffers from exposure bias, meaning the model is trained only on correct previous tokens and not on its own predictions. In contrast, consider the T5 model, which uses a span corruption objective (a variant of masked language modeling). T5 masks contiguous spans of text and trains the model to generate these missing spans using context from both the left and right. This bidirectional approach captures richer contextual information and mitigates the exposure bias problem.\n",
        "<hr style=\"border:10px solid green\"> </hr>\n",
        "</font></h4>\n"
      ],
      "metadata": {
        "id": "UsxL_yQHbEOh"
      }
    },
    {
      "cell_type": "code",
      "source": [],
      "metadata": {
        "id": "NBdCxXSWXJGj"
      },
      "execution_count": 46,
      "outputs": []
    }
  ]
}